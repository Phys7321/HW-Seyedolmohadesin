{
 "cells": [
  {
   "cell_type": "markdown",
   "metadata": {},
   "source": [
    "### Dependence of acceptance ratio on $\\delta$ "
   ]
  },
  {
   "cell_type": "code",
   "execution_count": 7,
   "metadata": {},
   "outputs": [
    {
     "data": {
      "text/plain": [
       "Text(0, 0.5, 'Acceptance ratio')"
      ]
     },
     "execution_count": 7,
     "metadata": {},
     "output_type": "execute_result"
    },
    {
     "data": {
      "image/png": "[encoded data removed]",
      "text/plain": [
       "<Figure size 432x288 with 1 Axes>"
      ]
     },
     "metadata": {
      "needs_background": "light"
     },
     "output_type": "display_data"
    }
   ],
   "source": [
    "%matplotlib inline\n",
    "import numpy as np\n",
    "from matplotlib import pyplot\n",
    "\n",
    "N = 100000\n",
    "\n",
    "x = np.zeros(N)\n",
    "deltaarray = np.arange(0.5,10,0.5)\n",
    "sigma = 10.\n",
    "sigma2 = sigma**2\n",
    "\n",
    "Naccept=np.zeros(len(deltaarray))\n",
    "ratio=np.zeros(len(deltaarray))\n",
    "\n",
    "def metropolis(xold):\n",
    "    xtrial = np.random.random()    \n",
    "    xtrial = xold+(2*xtrial-1)*delta\n",
    "    weight = np.exp(-0.5*(xtrial**2-xold**2)/sigma2)\n",
    "    xnew = xold\n",
    "    if(weight >= 1): #Accept\n",
    "        xnew = xtrial\n",
    "    else:\n",
    "        r = np.random.random()\n",
    "        if(r <= weight): #Accept\n",
    "            xnew = xtrial\n",
    "    return xnew\n",
    "# Only here to get a better starting point\n",
    "\n",
    "for j  in range (0,len(deltaarray)):\n",
    "    delta=deltaarray[j]\n",
    "    xwalker = 20.\n",
    "    Nwarmup = 500000\n",
    "    for k in range(Nwarmup):\n",
    "        xwalker = metropolis(xwalker)\n",
    "        ###\n",
    "    x[0] = xwalker\n",
    "\n",
    "    for i in range(1,N):\n",
    "        x0 = x[i-1]\n",
    "        for i in range(10):\n",
    "            x0 = metropolis(x0)\n",
    "        x[i] = metropolis(x0)\n",
    "        if (x[i]!=x0): # acceptance \n",
    "            Naccept[j]+=1\n",
    "    ratio[j]=Naccept[j]/N        \n",
    "            \n",
    "            \n",
    "        \n",
    "pyplot.plot(deltaarray,ratio)\n",
    "pyplot.xlabel('delta')\n",
    "pyplot.ylabel('Acceptance ratio')\n"
   ]
  }
 ],
 "metadata": {
  "kernelspec": {
   "display_name": "Python [default]",
   "language": "python",
   "name": "python3"
  },
  "language_info": {
   "codemirror_mode": {
    "name": "ipython",
    "version": 3
   },
   "file_extension": ".py",
   "mimetype": "text/x-python",
   "name": "python",
   "nbconvert_exporter": "python",
   "pygments_lexer": "ipython3",
   "version": "3.5.6"
  }
 },
 "nbformat": 4,
 "nbformat_minor": 2
}
