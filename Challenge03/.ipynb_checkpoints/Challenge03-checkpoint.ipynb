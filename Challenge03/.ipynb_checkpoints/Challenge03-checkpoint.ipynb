{
 "cells": [
  {
   "cell_type": "markdown",
   "metadata": {},
   "source": [
    "## Challenge 3 : Canonical Ensemble "
   ]
  },
  {
   "cell_type": "code",
   "execution_count": 3,
   "metadata": {},
   "outputs": [],
   "source": [
    "%matplotlib inline\n",
    "import numpy as np\n",
    "from matplotlib import pyplot\n"
   ]
  },
  {
   "cell_type": "code",
   "execution_count": 4,
   "metadata": {},
   "outputs": [
    {
     "name": "stdout",
     "output_type": "stream",
     "text": [
      "Acceptance ratio=  0.838\n",
      "<Energy>= 39.91195105418186\n",
      "<Energy^2>= 4794.957075395391\n",
      "Error= 0.04001245580093768\n",
      "Acceptance ratio=  0.844437\n"
     ]
    },
    {
     "data": {
      "image/png": "[encoded data removed]",
      "text/plain": [
       "<Figure size 432x288 with 1 Axes>"
      ]
     },
     "metadata": {
      "needs_background": "light"
     },
     "output_type": "display_data"
    }
   ],
   "source": [
    "\n",
    "nwalkers = 20 # number of particles \n",
    "v = np.zeros(nwalkers)\n",
    "v.fill(20)\n",
    "T = 80\n",
    "delta = 5\n",
    "\n",
    "def metropolis(vold):\n",
    "    global delta, T\n",
    "    vtrial = np.random.random()    \n",
    "    vtrial = vold+(2*vtrial-1)*delta\n",
    "    weight = np.exp(-(vtrial**2-vold**2)/T)\n",
    "    vnew = vold\n",
    "    if(weight >= 1): #Accept\n",
    "        vnew = vtrial\n",
    "    elif(weight != 0):\n",
    "        r = np.random.random()\n",
    "        if(r <= weight): #Accept\n",
    "            vnew = vtrial\n",
    "    return vnew\n",
    "\n",
    "# Warmup loop\n",
    "\n",
    "Nwarmup = 200\n",
    "Ewarmup = np.zeros(Nwarmup)\n",
    "\n",
    "Naccept = 0.\n",
    "for j in range(Nwarmup):\n",
    "    for i in range(nwalkers):\n",
    "        vold = v[i]\n",
    "        v[i] = metropolis(v[i])\n",
    "        if(v[i] != vold):\n",
    "            Naccept += 1\n",
    "        \n",
    "    Ewarmup[j] = np.sum(v**2)/nwalkers\n",
    "\n",
    "x = np.arange(0,Nwarmup,1)\n",
    "pyplot.plot(x,Ewarmup,ls='-',c='blue');\n",
    "pyplot.xlabel('Nwarmup')\n",
    "pyplot.ylabel('Energy')\n",
    "\n",
    "\n",
    "\n",
    "print(\"Acceptance ratio= \", Naccept/float(Nwarmup*nwalkers))\n",
    "\n",
    "# Measurement loop\n",
    "\n",
    "Nmeasure = 100000\n",
    "Naccept = 0.\n",
    "E = 0.\n",
    "E2 = 0.\n",
    "for j in range(Nmeasure):\n",
    "    for i in range(nwalkers):\n",
    "        vold = v[i]\n",
    "        v[i] = metropolis(v[i])\n",
    "        if(v[i] != vold):\n",
    "            Naccept += 1\n",
    "\n",
    "    E += np.sum(v**2)\n",
    "    E2 += np.sum(v**4)\n",
    "\n",
    "E = E/Nmeasure/nwalkers\n",
    "E2 = E2/Nmeasure/nwalkers\n",
    "print(\"<Energy>=\", E)\n",
    "print(\"<Energy^2>=\", E2)\n",
    "print(\"Error=\", np.sqrt((E2-E**2)/Nmeasure/nwalkers))\n",
    "\n",
    "print(\"Acceptance ratio= \", Naccept/float(Nmeasure*nwalkers))"
   ]
  },
  {
   "cell_type": "markdown",
   "metadata": {},
   "source": [
    "### mean energy per particle for $T=10$, $100$ and $400$:\n",
    "#### At equilibrium we have : $<E> =\\frac{k_BT}{2}=\\frac{T}{2}$"
   ]
  },
  {
   "cell_type": "code",
   "execution_count": 5,
   "metadata": {},
   "outputs": [
    {
     "data": {
      "text/plain": [
       "Text(0, 0.5, '<E>')"
      ]
     },
     "execution_count": 5,
     "metadata": {},
     "output_type": "execute_result"
    },
    {
     "data": {
      "image/png": "[encoded data removed]",
      "text/plain": [
       "<Figure size 432x288 with 1 Axes>"
      ]
     },
     "metadata": {
      "needs_background": "light"
     },
     "output_type": "display_data"
    }
   ],
   "source": [
    "Tarray=[10,100,400]\n",
    "nwalkers = 20 # number of particles \n",
    "\n",
    "Nwarmup=[0,0,0]\n",
    "meanE=np.zeros(len(Tarray))\n",
    "meanE2=np.zeros(len(Tarray))\n",
    "Nmeasure=100000\n",
    "for l in range (len(Tarray)):\n",
    "    v = np.zeros(nwalkers)\n",
    "    v.fill(20)\n",
    "    T=Tarray[l]\n",
    "    Nwarmup[l]=0\n",
    "    Ewarmup = np.sum(v**2)/nwalkers\n",
    "    while (Ewarmup >= T/2):\n",
    "        for i in range(nwalkers):\n",
    "            vold = v[i]\n",
    "            v[i] = metropolis(v[i])\n",
    "        Ewarmup = np.sum(v**2)/nwalkers    \n",
    "        Nwarmup[l] +=1\n",
    "    for j in range(Nmeasure):\n",
    "        for i in range(nwalkers):\n",
    "            vold = v[i]\n",
    "            v[i] = metropolis(v[i])\n",
    "        \n",
    "        meanE[l] += np.sum(v**2)\n",
    "        meanE2[l] += np.sum(v**4)\n",
    "        \n",
    "    meanE[l] = meanE[l]/Nmeasure/nwalkers\n",
    "    meanE2[l] = meanE2[l]/Nmeasure/nwalkers\n",
    "    \n",
    "pyplot.plot(Tarray,meanE,marker='o')\n",
    "pyplot.xlabel('T')\n",
    "pyplot.ylabel('<E>')"
   ]
  },
  {
   "cell_type": "code",
   "execution_count": 6,
   "metadata": {},
   "outputs": [
    {
     "data": {
      "text/plain": [
       "Text(0, 0.5, 'Error ')"
      ]
     },
     "execution_count": 6,
     "metadata": {},
     "output_type": "execute_result"
    },
    {
     "data": {
      "image/png": "[encoded data removed]",
      "text/plain": [
       "<Figure size 432x288 with 1 Axes>"
      ]
     },
     "metadata": {
      "needs_background": "light"
     },
     "output_type": "display_data"
    }
   ],
   "source": [
    "pyplot.plot(Tarray, np.sqrt((meanE2-meanE**2)/Nmeasure/nwalkers))\n",
    "pyplot.xlabel('T')\n",
    "pyplot.ylabel('Error ')"
   ]
  },
  {
   "cell_type": "markdown",
   "metadata": {},
   "source": [
    "###  Warmup steps for N=10 , T=100 and N=40 , T=100"
   ]
  },
  {
   "cell_type": "code",
   "execution_count": 14,
   "metadata": {},
   "outputs": [
    {
     "name": "stdout",
     "output_type": "stream",
     "text": [
      "********************** \n",
      "Nwarmup(N=10) = 22 \n",
      "**********************\n",
      "********************** \n",
      "Nwarmup (N=40) = 28 \n",
      "**********************\n"
     ]
    }
   ],
   "source": [
    "\n",
    "nwalkers = 10 # number of particles \n",
    "\n",
    "Nwarmup=0\n",
    "\n",
    "\n",
    "v = np.zeros(nwalkers)\n",
    "v.fill(20)\n",
    "T=100\n",
    "Nwarmup=0\n",
    "Ewarmup = np.sum(v**2)/nwalkers\n",
    "while (Ewarmup >= T/2):\n",
    "    for i in range(nwalkers):\n",
    "        vold = v[i]\n",
    "        v[i] = metropolis(v[i])\n",
    "    Ewarmup = np.sum(v**2)/nwalkers    \n",
    "    Nwarmup +=1\n",
    "print('********************** \\nNwarmup(N=10) =',Nwarmup,'\\n**********************')  \n",
    "\n",
    "nwalkers = 10 # number of particles \n",
    "\n",
    "Nwarmup=0\n",
    "\n",
    "\n",
    "v = np.zeros(nwalkers)\n",
    "v.fill(20)\n",
    "T=100\n",
    "Nwarmup=0\n",
    "Ewarmup = np.sum(v**2)/nwalkers\n",
    "while (Ewarmup >= T/2):\n",
    "    for i in range(nwalkers):\n",
    "        vold = v[i]\n",
    "        v[i] = metropolis(v[i])\n",
    "    Ewarmup = np.sum(v**2)/nwalkers    \n",
    "    Nwarmup +=1\n",
    "print('********************** \\nNwarmup (N=40) =',Nwarmup,'\\n**********************')  "
   ]
  },
  {
   "cell_type": "code",
   "execution_count": 57,
   "metadata": {},
   "outputs": [
    {
     "data": {
      "text/plain": [
       "Text(0, 0.5, 'p(<E>)')"
      ]
     },
     "execution_count": 57,
     "metadata": {},
     "output_type": "execute_result"
    },
    {
     "data": {
      "image/png": "[encoded data removed]",
      "text/plain": [
       "<Figure size 432x288 with 1 Axes>"
      ]
     },
     "metadata": {
      "needs_background": "light"
     },
     "output_type": "display_data"
    }
   ],
   "source": [
    "nwalkers = 20 # number of particles \n",
    "v = np.zeros(nwalkers)\n",
    "\n",
    "T = 400\n",
    "delta = 5\n",
    "vstar=np.sqrt(T/2)\n",
    "v.fill(vstar)\n",
    "Estar = T * nwalkers / 2\n",
    "\n",
    "# Warmup loop\n",
    "\n",
    "Nwarmup = 10000\n",
    "Ewarmup = np.zeros(Nwarmup)\n",
    "\n",
    "\n",
    "for j in range(Nwarmup):\n",
    "    for i in range(nwalkers):\n",
    "        vold = v[i]\n",
    "        v[i] = metropolis(v[i])\n",
    "        \n",
    "        \n",
    "    Ewarmup[j] = np.sum(v**2) # energy of the system\n",
    "    \n",
    "binwidth = Estar/100\n",
    "pyplot.hist(Ewarmup,bins=np.arange( 0,3 * Estar, binwidth),density=True);    \n",
    "\n",
    "pyplot.xlabel('<E>')\n",
    "pyplot.ylabel('p (<E>)')\n"
   ]
  },
  {
   "cell_type": "markdown",
   "metadata": {},
   "source": [
    "### Probability $p(E)$"
   ]
  },
  {
   "cell_type": "code",
   "execution_count": 59,
   "metadata": {},
   "outputs": [
    {
     "data": {
      "text/plain": [
       "Text(0, 0.5, 'p (E)')"
      ]
     },
     "execution_count": 59,
     "metadata": {},
     "output_type": "execute_result"
    },
    {
     "data": {
      "image/png": "[encoded data removed]",
      "text/plain": [
       "<Figure size 432x288 with 1 Axes>"
      ]
     },
     "metadata": {
      "needs_background": "light"
     },
     "output_type": "display_data"
    }
   ],
   "source": [
    "nwalkers = 100000 \n",
    "v = np.zeros(nwalkers)\n",
    "\n",
    "T = 100\n",
    "delta = 5\n",
    "vstar=np.sqrt(T/2)\n",
    "v.fill(vstar)\n",
    "Estar = T / 2\n",
    "E = np.zeros(nwalkers)\n",
    "\n",
    "\n",
    "# Warmup loop\n",
    "\n",
    "Nwarmup = 100 # reaching equilibrium\n",
    "Ewarmup = np.zeros(Nwarmup)\n",
    "\n",
    "\n",
    "for j in range(Nwarmup):\n",
    "    for i in range(nwalkers):\n",
    "        vold = v[i]\n",
    "        v[i] = metropolis(v[i])\n",
    "        \n",
    "        \n",
    "    \n",
    "for i in range(nwalkers):\n",
    "    v[i] = metropolis(v[i])\n",
    "    E[i]=v[i]**2\n",
    "    \n",
    "    \n",
    "binwidth = Estar/200\n",
    "Emax=1.5 * Estar\n",
    "ax=pyplot.hist(E,bins=np.arange( 1,Emax, binwidth),density=True);    \n",
    "#norm =  1/ ((1-np.exp(-Emax/T )) * T)\n",
    "#norm=1/100\n",
    "#print(norm)\n",
    "#pyplot.plot(np.arange(0.,Emax,binwidth),norm *np.exp(-np.arange(0,Emax, binwidth)/T),ls='-',c='red',lw=3);\n",
    "[p,Energy]=np.histogram(E,bins=np.arange( 1,Emax, binwidth),density=True)\n",
    "pyplot.xlabel('E')\n",
    "pyplot.ylabel('p (E)')"
   ]
  },
  {
   "cell_type": "code",
   "execution_count": 60,
   "metadata": {},
   "outputs": [
    {
     "data": {
      "text/plain": [
       "Text(0, 0.5, 'ln(p(E))')"
      ]
     },
     "execution_count": 60,
     "metadata": {},
     "output_type": "execute_result"
    },
    {
     "data": {
      "image/png": "[encoded data removed]",
      "text/plain": [
       "<Figure size 432x288 with 1 Axes>"
      ]
     },
     "metadata": {
      "needs_background": "light"
     },
     "output_type": "display_data"
    }
   ],
   "source": [
    "pyplot.plot(np.arange( 1,Emax-binwidth, binwidth), np.log(p))\n",
    "pyplot.xlabel('E')\n",
    "pyplot.ylabel('ln(p(E))')\n",
    "#pyplot.plot(np.arange( 0,Emax-binwidth, binwidth), (-np.arange( 0,Emax-binwidth, binwidth)/T)-6)"
   ]
  },
  {
   "cell_type": "markdown",
   "metadata": {},
   "source": [
    "### Heat Capacity per particle "
   ]
  },
  {
   "cell_type": "code",
   "execution_count": 23,
   "metadata": {},
   "outputs": [
    {
     "data": {
      "text/plain": [
       "<matplotlib.legend.Legend at 0x1167b9ac8>"
      ]
     },
     "execution_count": 23,
     "metadata": {},
     "output_type": "execute_result"
    },
    {
     "data": {
      "image/png": "[encoded data removed]",
      "text/plain": [
       "<Figure size 432x288 with 1 Axes>"
      ]
     },
     "metadata": {
      "needs_background": "light"
     },
     "output_type": "display_data"
    }
   ],
   "source": [
    "nwalkers = 10000 # numebr of ensembles\n",
    "v = np.zeros(nwalkers)\n",
    "Tarray = np.arange(10,110,10)\n",
    "delta = 5\n",
    "vstar=np.sqrt(T/2)\n",
    "Estar = T / 2\n",
    "v.fill(vstar)\n",
    "Ei = np.zeros(nwalkers)\n",
    "E2i = np.zeros(nwalkers)\n",
    "Nwarmup = 50 # reaching equilibrium\n",
    "CV=np.zeros(len(Tarray))\n",
    "Eavg=np.zeros(len(Tarray)) #avg energy over all ensembles \n",
    "\n",
    "\n",
    "for k in range(len(Tarray)):\n",
    "    T = Tarray[k]\n",
    "    E=0\n",
    "    E2=0\n",
    "\n",
    "    for j in range(Nwarmup):\n",
    "        for i in range(nwalkers):\n",
    "            v[i] = metropolis(v[i])\n",
    "        \n",
    "        for i in range(nwalkers):\n",
    "            v[i] = metropolis(v[i])\n",
    "            Ei[i]=v[i]**2\n",
    "            E2i[i]=Ei[i]**2\n",
    "    \n",
    "    E=np.sum(Ei)/nwalkers\n",
    "    Eavg[k]=E\n",
    "    E2= np.sum(E2i)/nwalkers \n",
    "\n",
    "    CV[k]= (E2-E**2)/(T**2)\n",
    "    \n",
    "    \n",
    "CVnew=np.diff(Eavg)/np.diff(Tarray)\n",
    "CVnew=np.mean(CVnew)\n",
    "\n",
    "pyplot.plot(Tarray,CV,'ro',label='$(<E^2>-<E>^2)/T$')\n",
    "pyplot.plot(Tarray,np.linspace(CVnew,CVnew,len(Tarray)),'k-',label='$\\Delta E/\\Delta T$')\n",
    "\n",
    "pyplot.ylim(0,1)\n",
    "pyplot.xlabel('$T$')\n",
    "pyplot.ylabel('$C_v$')\n",
    "pyplot.legend()\n",
    "\n",
    "\n"
   ]
  },
  {
   "cell_type": "markdown",
   "metadata": {},
   "source": [
    "#### As we can see two approaches give similar result for the value of $C_v$ and this value agrees with the theoretical expectations which states that :\n",
    "$\\frac{C_v}{N}= k_B/2=0.5$"
   ]
  }
 ],
 "metadata": {
  "kernelspec": {
   "display_name": "Python [default]",
   "language": "python",
   "name": "python3"
  },
  "language_info": {
   "codemirror_mode": {
    "name": "ipython",
    "version": 3
   },
   "file_extension": ".py",
   "mimetype": "text/x-python",
   "name": "python",
   "nbconvert_exporter": "python",
   "pygments_lexer": "ipython3",
   "version": "3.5.6"
  }
 },
 "nbformat": 4,
 "nbformat_minor": 2
}
