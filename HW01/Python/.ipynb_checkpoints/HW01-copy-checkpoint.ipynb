{
 "cells": [
  {
   "cell_type": "code",
   "execution_count": 146,
   "metadata": {
    "collapsed": false
   },
   "outputs": [],
   "source": [
    "%matplotlib inline\n",
    "import numpy as np\n",
    "from matplotlib import pyplot\n",
    "import math\n",
    "from math import sin, cos, pi\n",
    "import modify_myder\n",
    "from modify_myder import higherdiff, seconddiff\n",
    "from array import array\n",
    "from numpy import array"
   ]
  },
  {
   "cell_type": "code",
   "execution_count": 136,
   "metadata": {
    "collapsed": true
   },
   "outputs": [],
   "source": [
    "\n"
   ]
  },
  {
   "cell_type": "code",
   "execution_count": 144,
   "metadata": {
    "collapsed": false
   },
   "outputs": [],
   "source": [
    "# defining function y as $\\sin^2{\\frac{1}{x(2-x)}}$ \n",
    "\n",
    "x=np.linspace(0.01,1.99,num=100)\n",
    "y=[]\n",
    "\n",
    "f=lambda x: sin(1/(x*(2-x)))**2\n",
    "\n",
    "for i in x:\n",
    "    y.append(f(i))\n"
   ]
  },
  {
   "cell_type": "code",
   "execution_count": 147,
   "metadata": {
    "collapsed": false
   },
   "outputs": [
    {
     "ename": "NameError",
     "evalue": "name 'np' is not defined",
     "output_type": "error",
     "traceback": [
      "\u001b[0;31m---------------------------------------------------------------------------\u001b[0m",
      "\u001b[0;31mNameError\u001b[0m                                 Traceback (most recent call last)",
      "\u001b[0;32m<ipython-input-147-5535b3d8fac7>\u001b[0m in \u001b[0;36m<module>\u001b[0;34m()\u001b[0m\n\u001b[1;32m      6\u001b[0m \u001b[0mh\u001b[0m \u001b[0;34m=\u001b[0m \u001b[0;34m(\u001b[0m\u001b[0mb\u001b[0m\u001b[0;34m-\u001b[0m\u001b[0ma\u001b[0m\u001b[0;34m)\u001b[0m\u001b[0;34m/\u001b[0m\u001b[0mN\u001b[0m\u001b[0;34m\u001b[0m\u001b[0m\n\u001b[1;32m      7\u001b[0m \u001b[0;34m\u001b[0m\u001b[0m\n\u001b[0;32m----> 8\u001b[0;31m \u001b[0myp\u001b[0m\u001b[0;34m=\u001b[0m\u001b[0mhigherdiff\u001b[0m\u001b[0;34m(\u001b[0m\u001b[0mf\u001b[0m\u001b[0;34m,\u001b[0m\u001b[0ma\u001b[0m\u001b[0;34m,\u001b[0m\u001b[0mb\u001b[0m\u001b[0;34m,\u001b[0m\u001b[0mN\u001b[0m\u001b[0;34m)\u001b[0m \u001b[0;31m# first derivative\u001b[0m\u001b[0;34m\u001b[0m\u001b[0m\n\u001b[0m",
      "\u001b[0;32m/Users/MaedeMohadesin/Desktop/University/Fall 2018/Computational Physics /HW01-Differences/Python/modify_myder.py\u001b[0m in \u001b[0;36mhigherdiff\u001b[0;34m(f, a, b, N)\u001b[0m\n\u001b[1;32m      1\u001b[0m \u001b[0;32mdef\u001b[0m \u001b[0mhigherdiff\u001b[0m\u001b[0;34m(\u001b[0m\u001b[0mf\u001b[0m\u001b[0;34m,\u001b[0m\u001b[0ma\u001b[0m\u001b[0;34m,\u001b[0m\u001b[0mb\u001b[0m\u001b[0;34m,\u001b[0m\u001b[0mN\u001b[0m\u001b[0;34m)\u001b[0m\u001b[0;34m:\u001b[0m\u001b[0;34m\u001b[0m\u001b[0m\n\u001b[1;32m      2\u001b[0m     \u001b[0mh\u001b[0m \u001b[0;34m=\u001b[0m \u001b[0;34m(\u001b[0m\u001b[0mb\u001b[0m\u001b[0;34m-\u001b[0m\u001b[0ma\u001b[0m\u001b[0;34m)\u001b[0m\u001b[0;34m/\u001b[0m\u001b[0mN\u001b[0m\u001b[0;34m\u001b[0m\u001b[0m\n\u001b[0;32m----> 3\u001b[0;31m     \u001b[0mg\u001b[0m\u001b[0;34m=\u001b[0m\u001b[0mnp\u001b[0m\u001b[0;34m.\u001b[0m\u001b[0mzeros\u001b[0m\u001b[0;34m(\u001b[0m\u001b[0mN\u001b[0m\u001b[0;34m)\u001b[0m\u001b[0;34m\u001b[0m\u001b[0m\n\u001b[0m\u001b[1;32m      4\u001b[0m     \u001b[0;32mfor\u001b[0m \u001b[0mk\u001b[0m \u001b[0;32min\u001b[0m \u001b[0mrange\u001b[0m\u001b[0;34m(\u001b[0m\u001b[0;36m0\u001b[0m\u001b[0;34m,\u001b[0m\u001b[0mN\u001b[0m\u001b[0;34m)\u001b[0m\u001b[0;34m:\u001b[0m\u001b[0;34m\u001b[0m\u001b[0m\n\u001b[1;32m      5\u001b[0m         \u001b[0mslop\u001b[0m \u001b[0;34m=\u001b[0m \u001b[0;34m(\u001b[0m\u001b[0;34m(\u001b[0m\u001b[0;36m1\u001b[0m\u001b[0;34m/\u001b[0m\u001b[0;36m24\u001b[0m\u001b[0;34m)\u001b[0m\u001b[0;34m*\u001b[0m\u001b[0mf\u001b[0m\u001b[0;34m(\u001b[0m\u001b[0ma\u001b[0m\u001b[0;34m+\u001b[0m\u001b[0;34m(\u001b[0m\u001b[0mk\u001b[0m\u001b[0;34m-\u001b[0m\u001b[0;36m3\u001b[0m\u001b[0;34m/\u001b[0m\u001b[0;36m2\u001b[0m\u001b[0;34m)\u001b[0m\u001b[0;34m*\u001b[0m\u001b[0mh\u001b[0m\u001b[0;34m)\u001b[0m\u001b[0;34m-\u001b[0m\u001b[0;34m(\u001b[0m\u001b[0;36m27\u001b[0m\u001b[0;34m/\u001b[0m\u001b[0;36m24\u001b[0m\u001b[0;34m)\u001b[0m\u001b[0;34m*\u001b[0m\u001b[0mf\u001b[0m\u001b[0;34m(\u001b[0m\u001b[0ma\u001b[0m\u001b[0;34m+\u001b[0m\u001b[0;34m(\u001b[0m\u001b[0mk\u001b[0m\u001b[0;34m-\u001b[0m\u001b[0;36m1\u001b[0m\u001b[0;34m/\u001b[0m\u001b[0;36m2\u001b[0m\u001b[0;34m)\u001b[0m\u001b[0;34m*\u001b[0m\u001b[0mh\u001b[0m\u001b[0;34m)\u001b[0m\u001b[0;34m+\u001b[0m\u001b[0;34m(\u001b[0m\u001b[0;36m27\u001b[0m\u001b[0;34m/\u001b[0m\u001b[0;36m24\u001b[0m\u001b[0;34m)\u001b[0m\u001b[0;34m*\u001b[0m\u001b[0mf\u001b[0m\u001b[0;34m(\u001b[0m\u001b[0ma\u001b[0m\u001b[0;34m+\u001b[0m\u001b[0;34m(\u001b[0m\u001b[0mk\u001b[0m\u001b[0;34m+\u001b[0m\u001b[0;36m1\u001b[0m\u001b[0;34m/\u001b[0m\u001b[0;36m2\u001b[0m\u001b[0;34m)\u001b[0m\u001b[0;34m*\u001b[0m\u001b[0mh\u001b[0m\u001b[0;34m)\u001b[0m\u001b[0;34m-\u001b[0m\u001b[0;34m(\u001b[0m\u001b[0;36m1\u001b[0m\u001b[0;34m/\u001b[0m\u001b[0;36m24\u001b[0m\u001b[0;34m)\u001b[0m\u001b[0;34m*\u001b[0m\u001b[0mf\u001b[0m\u001b[0;34m(\u001b[0m\u001b[0ma\u001b[0m\u001b[0;34m+\u001b[0m\u001b[0;34m(\u001b[0m\u001b[0mk\u001b[0m\u001b[0;34m+\u001b[0m\u001b[0;36m3\u001b[0m\u001b[0;34m/\u001b[0m\u001b[0;36m2\u001b[0m\u001b[0;34m)\u001b[0m\u001b[0;34m*\u001b[0m\u001b[0mh\u001b[0m\u001b[0;34m)\u001b[0m\u001b[0;34m)\u001b[0m\u001b[0;34m/\u001b[0m\u001b[0mh\u001b[0m\u001b[0;34m\u001b[0m\u001b[0m\n",
      "\u001b[0;31mNameError\u001b[0m: name 'np' is not defined"
     ]
    }
   ],
   "source": [
    "#first derivative with higher order method : degree 3\n",
    "\n",
    "N=100\n",
    "a=0.01\n",
    "b=1.99\n",
    "h = (b-a)/N\n",
    " \n",
    "yp=higherdiff(f,a,b,N) # first derivative \n"
   ]
  },
  {
   "cell_type": "code",
   "execution_count": 98,
   "metadata": {
    "collapsed": false
   },
   "outputs": [],
   "source": [
    "# first derivative functional form \n",
    "\n",
    "fp=lambda x: sin(2/(x*(2-x)))*2*(x-1)/((x*(2-x))**2)\n",
    "yp_function=list(map(fp,x))\n"
   ]
  },
  {
   "cell_type": "code",
   "execution_count": 137,
   "metadata": {
    "collapsed": false
   },
   "outputs": [
    {
     "data": {
      "text/plain": [
       "array([  2.99743624e+03,  -3.20193447e+03,   1.38946152e+03,\n",
       "        -2.35053268e+03,   3.84945941e+03,  -2.76284739e+03,\n",
       "        -5.73946002e+02,   7.05819942e+02,   6.30091821e+02,\n",
       "         3.06478558e+02,   7.94922597e+01,  -3.36073887e+01,\n",
       "        -7.60807876e+01,  -8.32067915e+01,  -7.53301161e+01,\n",
       "        -6.26233024e+01,  -4.96581590e+01,  -3.82123245e+01,\n",
       "        -2.87673332e+01,  -2.12542819e+01,  -1.54064583e+01,\n",
       "        -1.09167207e+01,  -7.50137004e+00,  -4.92097283e+00,\n",
       "        -2.98251375e+00,  -1.53433509e+00,  -4.59040710e-01,\n",
       "         3.33453331e-01,   9.11930445e-01,   1.32877368e+00,\n",
       "         1.62383221e+00,   1.82741526e+00,   1.96258487e+00,\n",
       "         2.04690048e+00,   2.09374204e+00,   2.11331203e+00,\n",
       "         2.11339428e+00,   2.09992898e+00,   2.07744917e+00,\n",
       "         2.04941243e+00,   2.01845357e+00,   1.98657726e+00,\n",
       "         1.95530531e+00,   1.92578921e+00,   1.89889614e+00,\n",
       "         1.87527473e+00,   1.85540488e+00,   1.83963542e+00,\n",
       "         1.82821189e+00,   1.82129647e+00,   1.81898136e+00,\n",
       "         1.82129647e+00,   1.82821189e+00,   1.83963542e+00,\n",
       "         1.85540488e+00,   1.87527473e+00,   1.89889614e+00,\n",
       "         1.92578921e+00,   1.95530531e+00,   1.98657726e+00,\n",
       "         2.01845357e+00,   2.04941243e+00,   2.07744917e+00,\n",
       "         2.09992898e+00,   2.11339428e+00,   2.11331203e+00,\n",
       "         2.09374204e+00,   2.04690048e+00,   1.96258487e+00,\n",
       "         1.82741526e+00,   1.62383221e+00,   1.32877368e+00,\n",
       "         9.11930445e-01,   3.33453331e-01,  -4.59040710e-01,\n",
       "        -1.53433509e+00,  -2.98251375e+00,  -4.92097283e+00,\n",
       "        -7.50137004e+00,  -1.09167207e+01,  -1.54064583e+01,\n",
       "        -2.12542819e+01,  -2.87673332e+01,  -3.82123245e+01,\n",
       "        -4.96581590e+01,  -6.26233024e+01,  -7.53301161e+01,\n",
       "        -8.32067915e+01,  -7.60807876e+01,  -3.36073887e+01,\n",
       "         7.94922597e+01,   3.06478558e+02,   6.30091821e+02,\n",
       "         7.05819942e+02,  -5.73946002e+02,  -2.76284739e+03,\n",
       "         3.84945941e+03,  -2.35053268e+03,   1.38946152e+03,\n",
       "        -3.20193447e+03])"
      ]
     },
     "execution_count": 137,
     "metadata": {},
     "output_type": "execute_result"
    }
   ],
   "source": [
    "#second derivative (numerically)\n",
    "\n",
    "ypp=seconddiff(f,a,b,N)\n",
    "ypp"
   ]
  },
  {
   "cell_type": "code",
   "execution_count": 120,
   "metadata": {
    "collapsed": false
   },
   "outputs": [
    {
     "data": {
      "text/plain": [
       "[<matplotlib.lines.Line2D at 0x116601390>]"
      ]
     },
     "execution_count": 120,
     "metadata": {},
     "output_type": "execute_result"
    },
    {
     "data": {
      "image/png": "[encoded data removed]",
      "text/plain": [
       "<matplotlib.figure.Figure at 0x117e43630>"
      ]
     },
     "metadata": {},
     "output_type": "display_data"
    }
   ],
   "source": [
    "# plots\n",
    "\n",
    "pyplot.plot(x,y,'r-'); # plots the actual function \n",
    "pyplot.plot(x,yp,'b-o'); # plots the first derivative found by higher order methods\n",
    "pyplot.plot(x,yp_function,'g-o') # plots the functional form of the first derivative \n"
   ]
  },
  {
   "cell_type": "code",
   "execution_count": 109,
   "metadata": {
    "collapsed": false
   },
   "outputs": [
    {
     "data": {
      "text/plain": [
       "array([ 1.,  2.,  3.])"
      ]
     },
     "execution_count": 109,
     "metadata": {},
     "output_type": "execute_result"
    }
   ],
   "source": [
    "def my_function():\n",
    "    my_array = np.array([1.,2.,3.])\n",
    "    my_variable = 99.\n",
    "    return my_array\n",
    "\n",
    "my_function()\n"
   ]
  }
 ],
 "metadata": {
  "anaconda-cloud": {},
  "kernelspec": {
   "display_name": "Python [default]",
   "language": "python",
   "name": "python3"
  },
  "language_info": {
   "codemirror_mode": {
    "name": "ipython",
    "version": 3
   },
   "file_extension": ".py",
   "mimetype": "text/x-python",
   "name": "python",
   "nbconvert_exporter": "python",
   "pygments_lexer": "ipython3",
   "version": "3.5.2"
  }
 },
 "nbformat": 4,
 "nbformat_minor": 1
}
